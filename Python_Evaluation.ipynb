{
  "nbformat": 4,
  "nbformat_minor": 0,
  "metadata": {
    "colab": {
      "provenance": [],
      "authorship_tag": "ABX9TyPsubMS4YK6wzdDdIGZkyaG",
      "include_colab_link": true
    },
    "kernelspec": {
      "name": "python3",
      "display_name": "Python 3"
    },
    "language_info": {
      "name": "python"
    }
  },
  "cells": [
    {
      "cell_type": "markdown",
      "metadata": {
        "id": "view-in-github",
        "colab_type": "text"
      },
      "source": [
        "<a href=\"https://colab.research.google.com/github/Yamani-Swathi/Swathi_Meatscifor_Training/blob/main/Python_Evaluation.ipynb\" target=\"_parent\"><img src=\"https://colab.research.google.com/assets/colab-badge.svg\" alt=\"Open In Colab\"/></a>"
      ]
    },
    {
      "cell_type": "code",
      "execution_count": 1,
      "metadata": {
        "colab": {
          "base_uri": "https://localhost:8080/"
        },
        "id": "8P0TMcpP7KBq",
        "outputId": "fd68cdb5-741a-4b3e-df8f-50e35ec18795"
      },
      "outputs": [
        {
          "output_type": "stream",
          "name": "stdout",
          "text": [
            "Animals need food to survive\n",
            "Herbivores eat plants\n",
            "Cow gives milk\n"
          ]
        }
      ],
      "source": [
        "# Multiple Inheritance\n",
        "class Animal:\n",
        "    def __init__(self):\n",
        "        print(\"Animals need food to survive\")\n",
        "\n",
        "class Herbivore:\n",
        "    def __init__(self):\n",
        "        print(\"Herbivores eat plants\")\n",
        "\n",
        "class Cow(Animal, Herbivore):\n",
        "    def __init__(self):\n",
        "        super().__init__()\n",
        "        Herbivore.__init__(self)\n",
        "        print(\"Cow gives milk\")\n",
        "\n",
        "c = Cow()"
      ]
    }
  ]
}